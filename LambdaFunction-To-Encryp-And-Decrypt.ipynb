{
 "cells": [
  {
   "cell_type": "markdown",
   "metadata": {},
   "source": [
    "# Lambda function\n",
    "\n",
    "#### Lambda functions are anonymous functions that are not defined in the namespace"
   ]
  },
  {
   "cell_type": "markdown",
   "metadata": {},
   "source": [
    "### Let us write the encrypt function\n",
    "### This function shifts the string by 5 Unicode positions to the left"
   ]
  },
  {
   "cell_type": "code",
   "execution_count": 1,
   "metadata": {},
   "outputs": [],
   "source": [
    "def encrypt(string_in):\n",
    "    string_tmp = map(lambda str: chr(ord(str) - 5), string_in)\n",
    "    return ''.join(string_tmp)"
   ]
  },
  {
   "cell_type": "markdown",
   "metadata": {},
   "source": [
    "### Let us write the decrypt function\n",
    "### This function shifts the string by 5 Unicode positions to the right"
   ]
  },
  {
   "cell_type": "code",
   "execution_count": 2,
   "metadata": {},
   "outputs": [],
   "source": [
    "def decrypt(string_in):\n",
    "    string_tmp = map(lambda str : chr(ord(str) + 5), string_in)\n",
    "    return ''.join(string_tmp)"
   ]
  },
  {
   "cell_type": "markdown",
   "metadata": {},
   "source": [
    "### Now, here is our secret message ( don't tell any one )"
   ]
  },
  {
   "cell_type": "code",
   "execution_count": 3,
   "metadata": {},
   "outputs": [
    {
     "name": "stdout",
     "output_type": "stream",
     "text": [
      "Original string = Hi, this is top secret, I just had my dinner and watching prime news\n"
     ]
    }
   ],
   "source": [
    "original_string = \"Hi, this is top secret, I just had my dinner and watching prime news\"\n",
    "print(\"Original string =\", original_string)"
   ]
  },
  {
   "cell_type": "markdown",
   "metadata": {},
   "source": [
    "### Let us encrypt the message"
   ]
  },
  {
   "cell_type": "code",
   "execution_count": 4,
   "metadata": {},
   "outputs": [
    {
     "name": "stdout",
     "output_type": "stream",
     "text": [
      "Encrypted string = Cd'\u001bocdn\u001bdn\u001bojk\u001bn`^m`o'\u001bD\u001bepno\u001bc\\_\u001bht\u001b_dii`m\u001b\\i_\u001br\\o^cdib\u001bkmdh`\u001bi`rn\n"
     ]
    }
   ],
   "source": [
    "encrypted_string = encrypt(original_string)\n",
    "print(\"Encrypted string =\", encrypted_string)"
   ]
  },
  {
   "cell_type": "markdown",
   "metadata": {},
   "source": [
    "### Let us decrypt the message"
   ]
  },
  {
   "cell_type": "code",
   "execution_count": 5,
   "metadata": {},
   "outputs": [
    {
     "name": "stdout",
     "output_type": "stream",
     "text": [
      "Decrypted string = Hi, this is top secret, I just had my dinner and watching prime news\n"
     ]
    }
   ],
   "source": [
    "decrypted_string = decrypt(encrypted_string)\n",
    "print(\"Decrypted string =\", decrypted_string)"
   ]
  },
  {
   "cell_type": "markdown",
   "metadata": {},
   "source": [
    "### Note:\n",
    "#### In this example, we used lambda function as an input for the map() function.\n",
    "#### Map function applies the argument function to each element of the sequence."
   ]
  }
 ],
 "metadata": {
  "kernelspec": {
   "display_name": "Python 3",
   "language": "python",
   "name": "python3"
  },
  "language_info": {
   "codemirror_mode": {
    "name": "ipython",
    "version": 3
   },
   "file_extension": ".py",
   "mimetype": "text/x-python",
   "name": "python",
   "nbconvert_exporter": "python",
   "pygments_lexer": "ipython3",
   "version": "3.7.0"
  }
 },
 "nbformat": 4,
 "nbformat_minor": 2
}
